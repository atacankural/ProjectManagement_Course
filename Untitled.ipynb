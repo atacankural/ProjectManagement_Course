{
 "cells": [
  {
   "cell_type": "code",
   "execution_count": 74,
   "id": "5c66dc16",
   "metadata": {},
   "outputs": [],
   "source": [
    "import pandas\n",
    "from pandas import DataFrame\n",
    "import matplotlib.pyplot as plt\n",
    "import math\n",
    "\n",
    "from sklearn.linear_model import LinearRegression"
   ]
  },
  {
   "cell_type": "code",
   "execution_count": 19,
   "id": "c1b567d9",
   "metadata": {},
   "outputs": [],
   "source": [
    "data = pandas.read_csv('Property_Rents_Test.csv', header= None, delimiter=\";\")\n"
   ]
  },
  {
   "cell_type": "code",
   "execution_count": 20,
   "id": "7e06a295",
   "metadata": {},
   "outputs": [
    {
     "data": {
      "text/html": [
       "<div>\n",
       "<style scoped>\n",
       "    .dataframe tbody tr th:only-of-type {\n",
       "        vertical-align: middle;\n",
       "    }\n",
       "\n",
       "    .dataframe tbody tr th {\n",
       "        vertical-align: top;\n",
       "    }\n",
       "\n",
       "    .dataframe thead th {\n",
       "        text-align: right;\n",
       "    }\n",
       "</style>\n",
       "<table border=\"1\" class=\"dataframe\">\n",
       "  <thead>\n",
       "    <tr style=\"text-align: right;\">\n",
       "      <th></th>\n",
       "      <th>0</th>\n",
       "      <th>1</th>\n",
       "      <th>2</th>\n",
       "      <th>3</th>\n",
       "    </tr>\n",
       "  </thead>\n",
       "  <tbody>\n",
       "    <tr>\n",
       "      <th>count</th>\n",
       "      <td>6.000000</td>\n",
       "      <td>6.000000</td>\n",
       "      <td>6.000000</td>\n",
       "      <td>6.000000</td>\n",
       "    </tr>\n",
       "    <tr>\n",
       "      <th>mean</th>\n",
       "      <td>3.500000</td>\n",
       "      <td>2352.666667</td>\n",
       "      <td>114.000000</td>\n",
       "      <td>2.000000</td>\n",
       "    </tr>\n",
       "    <tr>\n",
       "      <th>std</th>\n",
       "      <td>1.870829</td>\n",
       "      <td>616.908637</td>\n",
       "      <td>44.663184</td>\n",
       "      <td>0.894427</td>\n",
       "    </tr>\n",
       "    <tr>\n",
       "      <th>min</th>\n",
       "      <td>1.000000</td>\n",
       "      <td>1385.000000</td>\n",
       "      <td>70.000000</td>\n",
       "      <td>1.000000</td>\n",
       "    </tr>\n",
       "    <tr>\n",
       "      <th>25%</th>\n",
       "      <td>2.250000</td>\n",
       "      <td>2101.750000</td>\n",
       "      <td>84.750000</td>\n",
       "      <td>1.250000</td>\n",
       "    </tr>\n",
       "    <tr>\n",
       "      <th>50%</th>\n",
       "      <td>3.500000</td>\n",
       "      <td>2477.500000</td>\n",
       "      <td>105.000000</td>\n",
       "      <td>2.000000</td>\n",
       "    </tr>\n",
       "    <tr>\n",
       "      <th>75%</th>\n",
       "      <td>4.750000</td>\n",
       "      <td>2556.250000</td>\n",
       "      <td>125.250000</td>\n",
       "      <td>2.750000</td>\n",
       "    </tr>\n",
       "    <tr>\n",
       "      <th>max</th>\n",
       "      <td>6.000000</td>\n",
       "      <td>3217.000000</td>\n",
       "      <td>194.000000</td>\n",
       "      <td>3.000000</td>\n",
       "    </tr>\n",
       "  </tbody>\n",
       "</table>\n",
       "</div>"
      ],
      "text/plain": [
       "              0            1           2         3\n",
       "count  6.000000     6.000000    6.000000  6.000000\n",
       "mean   3.500000  2352.666667  114.000000  2.000000\n",
       "std    1.870829   616.908637   44.663184  0.894427\n",
       "min    1.000000  1385.000000   70.000000  1.000000\n",
       "25%    2.250000  2101.750000   84.750000  1.250000\n",
       "50%    3.500000  2477.500000  105.000000  2.000000\n",
       "75%    4.750000  2556.250000  125.250000  2.750000\n",
       "max    6.000000  3217.000000  194.000000  3.000000"
      ]
     },
     "execution_count": 20,
     "metadata": {},
     "output_type": "execute_result"
    }
   ],
   "source": [
    "data.describe()"
   ]
  },
  {
   "cell_type": "code",
   "execution_count": 21,
   "id": "3ceb1af0",
   "metadata": {
    "scrolled": true
   },
   "outputs": [
    {
     "data": {
      "text/html": [
       "<div>\n",
       "<style scoped>\n",
       "    .dataframe tbody tr th:only-of-type {\n",
       "        vertical-align: middle;\n",
       "    }\n",
       "\n",
       "    .dataframe tbody tr th {\n",
       "        vertical-align: top;\n",
       "    }\n",
       "\n",
       "    .dataframe thead th {\n",
       "        text-align: right;\n",
       "    }\n",
       "</style>\n",
       "<table border=\"1\" class=\"dataframe\">\n",
       "  <thead>\n",
       "    <tr style=\"text-align: right;\">\n",
       "      <th></th>\n",
       "      <th>0</th>\n",
       "      <th>1</th>\n",
       "      <th>2</th>\n",
       "      <th>3</th>\n",
       "    </tr>\n",
       "  </thead>\n",
       "  <tbody>\n",
       "    <tr>\n",
       "      <th>0</th>\n",
       "      <td>1</td>\n",
       "      <td>2461</td>\n",
       "      <td>70</td>\n",
       "      <td>3</td>\n",
       "    </tr>\n",
       "    <tr>\n",
       "      <th>1</th>\n",
       "      <td>2</td>\n",
       "      <td>3217</td>\n",
       "      <td>194</td>\n",
       "      <td>1</td>\n",
       "    </tr>\n",
       "    <tr>\n",
       "      <th>2</th>\n",
       "      <td>3</td>\n",
       "      <td>2494</td>\n",
       "      <td>129</td>\n",
       "      <td>2</td>\n",
       "    </tr>\n",
       "    <tr>\n",
       "      <th>3</th>\n",
       "      <td>4</td>\n",
       "      <td>2577</td>\n",
       "      <td>114</td>\n",
       "      <td>2</td>\n",
       "    </tr>\n",
       "    <tr>\n",
       "      <th>4</th>\n",
       "      <td>5</td>\n",
       "      <td>1385</td>\n",
       "      <td>81</td>\n",
       "      <td>1</td>\n",
       "    </tr>\n",
       "  </tbody>\n",
       "</table>\n",
       "</div>"
      ],
      "text/plain": [
       "   0     1    2  3\n",
       "0  1  2461   70  3\n",
       "1  2  3217  194  1\n",
       "2  3  2494  129  2\n",
       "3  4  2577  114  2\n",
       "4  5  1385   81  1"
      ]
     },
     "execution_count": 21,
     "metadata": {},
     "output_type": "execute_result"
    }
   ],
   "source": [
    "data.head()\n"
   ]
  },
  {
   "cell_type": "code",
   "execution_count": 26,
   "id": "ffd61787",
   "metadata": {},
   "outputs": [],
   "source": [
    "\n",
    "# Assigning Columns to variables\n",
    "\n",
    "ID = data.iloc[:, 0]\n",
    "Rent = data.iloc[:, 1]\n",
    "Size = data.iloc[:, 2]\n",
    "Standart = data.iloc[:, 3]\n",
    "\n",
    "\n"
   ]
  },
  {
   "cell_type": "code",
   "execution_count": 27,
   "id": "c8d2e186",
   "metadata": {},
   "outputs": [
    {
     "name": "stdout",
     "output_type": "stream",
     "text": [
      "0    1\n",
      "1    2\n",
      "2    3\n",
      "3    4\n",
      "4    5\n",
      "5    6\n",
      "Name: 0, dtype: int64 0    2461\n",
      "1    3217\n",
      "2    2494\n",
      "3    2577\n",
      "4    1385\n",
      "5    1982\n",
      "Name: 1, dtype: int64 0     70\n",
      "1    194\n",
      "2    129\n",
      "3    114\n",
      "4     81\n",
      "5     96\n",
      "Name: 2, dtype: int64 0    3\n",
      "1    1\n",
      "2    2\n",
      "3    2\n",
      "4    1\n",
      "5    3\n",
      "Name: 3, dtype: int64\n"
     ]
    }
   ],
   "source": [
    "print(ID, Rent, Size, Standart)"
   ]
  },
  {
   "cell_type": "code",
   "execution_count": 32,
   "id": "dac9cc29",
   "metadata": {
    "scrolled": true
   },
   "outputs": [
    {
     "data": {
      "image/png": "[encoded data removed]",
      "text/plain": [
       "<Figure size 1000x600 with 1 Axes>"
      ]
     },
     "metadata": {},
     "output_type": "display_data"
    }
   ],
   "source": [
    "plt.figure(figsize=(10,6))\n",
    "plt.scatter(Rent, Size, alpha=0.7, color='red')\n",
    "plt.title('Property Rents')\n",
    "plt.xlabel('Rent €')\n",
    "plt.ylabel('Size sqm')\n",
    "plt.xlim(0, 4500)\n",
    "plt.ylim(0, 300)\n",
    "plt.show()"
   ]
  },
  {
   "cell_type": "code",
   "execution_count": 62,
   "id": "beb385ef",
   "metadata": {},
   "outputs": [
    {
     "name": "stdout",
     "output_type": "stream",
     "text": [
      "35.15714285714286\n",
      "16.582474226804123\n",
      "19.333333333333332\n",
      "22.605263157894736\n",
      "17.098765432098766\n",
      "20.645833333333332\n",
      "21.90380205676786\n",
      "[20.645833333333332]\n"
     ]
    }
   ],
   "source": [
    "total = 0\n",
    "\n",
    "for i in range(0,6):\n",
    "    result = Rent[i]/Size[i]\n",
    "    meanResult =[]\n",
    "    print(result)\n",
    "    meanResult.append(result)\n",
    "    total += result\n",
    "    \n",
    "mean = total/6    \n",
    "print(mean)\n",
    "print(meanResult)"
   ]
  },
  {
   "cell_type": "code",
   "execution_count": 78,
   "id": "42687183",
   "metadata": {},
   "outputs": [
    {
     "name": "stdout",
     "output_type": "stream",
     "text": [
      "Mean value: 21.90380205676786\n",
      "Variance: 0.5625807158336468\n"
     ]
    }
   ],
   "source": [
    "for i in range(0,6):\n",
    "    result = Rent[i]/Size[i] \n",
    "    # Calculate the variance using the mean value\n",
    "    varianceSQR = sum((result - mean) ** 2 for result in meanResult) / (len(Rent) - 1)\n",
    "    variance = math.sg(varianceSQR)\n",
    "print(\"Mean value:\", mean)\n",
    "print(\"Variance:\", variance)\n",
    "        \n"
   ]
  },
  {
   "cell_type": "code",
   "execution_count": 76,
   "id": "7bbecbb5",
   "metadata": {},
   "outputs": [
    {
     "name": "stdout",
     "output_type": "stream",
     "text": [
      "13.253\n",
      "-5.321\n",
      "-2.570\n",
      "0.701\n",
      "-4.805\n",
      "-1.258\n"
     ]
    }
   ],
   "source": [
    "for i in range(0,6):\n",
    "    result = Rent[i]/Size[i] \n",
    "    # Calculate the variance using the mean value\n",
    "    distance = result - mean\n",
    "    print(\"{:.3f}\".format(distance))\n"
   ]
  },
  {
   "cell_type": "code",
   "execution_count": null,
   "id": "e12fe50a",
   "metadata": {},
   "outputs": [],
   "source": [
    "\n"
   ]
  }
 ],
 "metadata": {
  "kernelspec": {
   "display_name": "Python 3 (ipykernel)",
   "language": "python",
   "name": "python3"
  },
  "language_info": {
   "codemirror_mode": {
    "name": "ipython",
    "version": 3
   },
   "file_extension": ".py",
   "mimetype": "text/x-python",
   "name": "python",
   "nbconvert_exporter": "python",
   "pygments_lexer": "ipython3",
   "version": "3.10.9"
  }
 },
 "nbformat": 4,
 "nbformat_minor": 5
}
